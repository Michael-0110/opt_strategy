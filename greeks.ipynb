{
 "cells": [
  {
   "cell_type": "code",
   "execution_count": 15,
   "id": "9ccbfafe-8e39-437d-94fd-cceadba5f771",
   "metadata": {},
   "outputs": [],
   "source": [
    "import numpy as np\n",
    "import scipy.stats as si\n",
    "\n",
    "from stock_centre import *\n",
    "hq = Stock_Data_Centre()\n",
    "from opt_assistant import Opt_Assistant\n",
    "opt_info = Opt_Assistant()\n",
    "\n",
    "ts_obj = TuShare()\n",
    "pro = ts_obj.pro\n",
    "\n",
    "code = '10000001.XSHG'\n",
    "date = '2015-03-02'\n",
    "\n",
    "\n",
    "\n",
    "def get_para_of_greeks(code, date, interest_rate_type='1y',his_vol_len=20):\n",
    "    \n",
    "    contract_info = opt_info.get_contract_info(code)\n",
    "    underlying_symbol = contract_info['underlying_symbol'].iloc[0]\n",
    "    date = pd.to_datetime(date, format='%Y-%m-%d')\n",
    "    end_date = date\n",
    "    #print(end_date)\n",
    "    start_date = date.replace(year=date.year - 1)\n",
    "    #print(start_date)\n",
    "    \n",
    "    #  标的范围\n",
    "    index_list = ['000300', '000852', '000016']\n",
    "    etf_list = ['510050', '510300', '510500', '588000', '588080', '159915', '159901', '159919', '159922']\n",
    "    #  标的历史价格\n",
    "    if underlying_symbol[:6] in index_list:\n",
    "        underlying_symbol_for_stock = underlying_symbol[:6]+'.SH'\n",
    "        underlying_prc_his = hq.get_hq(code=underlying_symbol_for_stock, start_date=start_date, end_date=end_date, index_data=True)\n",
    "    elif underlying_symbol[:6] in etf_list:\n",
    "        if underlying_symbol[:6].startswith('5'):\n",
    "            underlying_symbol_for_stock = underlying_symbol[:6]+'.SH'      \n",
    "        elif underlying_symbol[:6].startswith('1'):\n",
    "            underlying_symbol_for_stock = underlying_symbol[:6]+'.SZ'\n",
    "        underlying_prc_his_Tushare = pro.fund_daily(ts_code=underlying_symbol_for_stock, start_date=pd.to_datetime(start_date, format='%Y-%m-%d').strftime('%Y%m%d'), end_date=pd.to_datetime(end_date, format='%Y-%m-%d').strftime('%Y%m%d'))\n",
    "        underlying_prc_his = underlying_prc_his_Tushare.set_index(pd.to_datetime(underlying_prc_his_Tushare['trade_date'], format='%Y%m%d').dt.strftime('%Y-%m-%d'))\n",
    "        underlying_prc_his.sort_index(inplace=True)\n",
    "    \n",
    "    s = underlying_prc_his['close'].iloc[0]\n",
    "    \n",
    "    k= contract_info['exercise_price'].iloc[0]\n",
    "    \n",
    "    r = pro.shibor(start_date=date.strftime('%Y%m%d'), end_date=date.strftime('%Y%m%d'))[interest_rate_type].iloc[0]\n",
    "    \n",
    "    exercise_date = contract_info['exercise_date'].iloc[0]\n",
    "\n",
    "    T= len(hq.get_trade_date(start_date=date, end_date=exercise_date, only_list=True))\n",
    "    \n",
    "    sigma = underlying_prc_his.head(his_vol_len)['close'].pct_change().std()* np.sqrt(252)\n",
    "    \n",
    "    if contract_info['contract_type'].iloc[0] == 'CO':\n",
    "        n=1\n",
    "    elif contract_info['contract_type'].iloc[0] == 'PO':\n",
    "        n=-1\n",
    "    \n",
    "    return (s,k,r,T,sigma,n)\n",
    "    \n",
    "greek_input=get_para_of_greeks(code, date, interest_rate_type='1y',his_vol_len=20)\n"
   ]
  },
  {
   "cell_type": "code",
   "execution_count": 19,
   "id": "6c6a6474-f649-4d03-8f6c-80159729cc78",
   "metadata": {},
   "outputs": [],
   "source": [
    "def d(s, k,r,T, sigma) :\n",
    "    d1 = (np.log(s / k) + (r + 0.5 * sigma ** 2) * T) / (sigma * np.sqrt(T))\n",
    "    d2 = d1 - sigma * np.sqrt(T)\n",
    "    return (d1,d2)\n",
    "\n",
    "   \n",
    "def delta(s,k,r,T, sigma,n):\n",
    "    d1 = d(s,k,r,T,sigma)[0]\n",
    "    delta = n * si.norm.cdf(n * d1)\n",
    "    return delta\n",
    "\n",
    "def gamma ( s , k, r,T, sigma ) :\n",
    "    d1 = d(s,k,r,T,sigma)[0]\n",
    "    gamma = si.norm.pdf(d1) / (s * sigma * np.sqrt(T))\n",
    "    return gamma\n",
    "\n",
    "def vega(s , k,r ,T, sigma ) :\n",
    "    d1 = d(s,k,r,T,sigma)[0]\n",
    "    vega = (s * si.norm.pdf(d1) * np.sqrt(T)) / 100\n",
    "    return vega\n",
    "\n",
    "def theta(s , k,r,T,sigma,n):\n",
    "    d1 = d(s,k,r,T,sigma)[0]\n",
    "    d2 = d(s,k,r,T,sigma)[1]\n",
    "    \n",
    "    theta = (-1 *(s * si.norm.pdf(d1) * sigma) / (2 * np.sgrt(T)) - n * r* k *np.exp(-r*T)*si.norm.cdf(n*d2))/365\n",
    "    return theta"
   ]
  },
  {
   "cell_type": "code",
   "execution_count": 20,
   "id": "771d1bc1-78db-4905-87d3-20f45cbefc17",
   "metadata": {},
   "outputs": [
    {
     "name": "stdout",
     "output_type": "stream",
     "text": [
      "(95.1375105170524, 94.23260736515685)\n"
     ]
    }
   ],
   "source": [
    "print(d(*greek_input[:-1]))"
   ]
  },
  {
   "cell_type": "code",
   "execution_count": null,
   "id": "020d1b98-bbd2-4767-9a2c-8c5fd6e38e9b",
   "metadata": {},
   "outputs": [],
   "source": []
  }
 ],
 "metadata": {
  "kernelspec": {
   "display_name": "Python 3 (ipykernel)",
   "language": "python",
   "name": "python3"
  },
  "language_info": {
   "codemirror_mode": {
    "name": "ipython",
    "version": 3
   },
   "file_extension": ".py",
   "mimetype": "text/x-python",
   "name": "python",
   "nbconvert_exporter": "python",
   "pygments_lexer": "ipython3",
   "version": "3.10.9"
  }
 },
 "nbformat": 4,
 "nbformat_minor": 5
}
