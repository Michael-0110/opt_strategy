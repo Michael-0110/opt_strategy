{
 "cells": [
  {
   "cell_type": "code",
   "execution_count": 6,
   "id": "0c37c9be-d876-458a-8748-1f3a04254369",
   "metadata": {},
   "outputs": [],
   "source": [
    "import pandas as pd\n",
    "from stock_centre import *\n",
    "hq = Stock_Data_Centre()\n",
    "ts_obj = TuShare()\n",
    "pro = ts_obj.pro"
   ]
  },
  {
   "cell_type": "code",
   "execution_count": 7,
   "id": "34293333-bca6-4822-9b63-57de262d2c36",
   "metadata": {},
   "outputs": [],
   "source": [
    "underlying_symbol = '510050'\n",
    "start_date = '2021-07-01'\n",
    "end_date = '2023-06-30'"
   ]
  },
  {
   "cell_type": "code",
   "execution_count": 8,
   "id": "77fe4021-9455-4e62-b7b7-cfb2895292a5",
   "metadata": {},
   "outputs": [],
   "source": [
    "def param_standard(underlying_symbol):\n",
    "\n",
    "    global start_date\n",
    "    global end_date\n",
    "\n",
    "    #  标的范围\n",
    "    index_list = ['000300', '000852', '000016']\n",
    "    etf_list = ['510050', '510300', '510500', '588000', '588080', '159915', '159901', '159919', '159922']\n",
    "\n",
    "    #  标的不同系统中的代码和历史价格和\n",
    "    if underlying_symbol in index_list:  # 指数的交易所为上交所\n",
    "        underlying_symbol_for_stock = underlying_symbol + '.SH'\n",
    "        underlying_symbol_for_opt = underlying_symbol + '.XSHG'\n",
    "        underlying_prc_his = hq.get_hq(code=underlying_symbol_for_stock, start_date=start_date, end_date=end_date,\n",
    "                                       index_data=True)\n",
    "        handling_fee = 15\n",
    "        commission = 15 * 3\n",
    "    elif underlying_symbol in etf_list:  # etf的交易所按开头分类\n",
    "        if underlying_symbol.startswith('5'):\n",
    "            underlying_symbol_for_stock = underlying_symbol + '.SH'\n",
    "            underlying_symbol_for_opt = underlying_symbol + '.XSHG'\n",
    "        elif underlying_symbol.startswith('1'):\n",
    "            underlying_symbol_for_stock = underlying_symbol + '.SZ'\n",
    "            underlying_symbol_for_opt = underlying_symbol + '.XSHE'\n",
    "        underlying_prc_his_Tushare = pro.fund_daily(ts_code=underlying_symbol_for_stock,\n",
    "                                                    start_date=pd.to_datetime(start_date, format='%Y-%m-%d').strftime(\n",
    "                                                        '%Y%m%d'),\n",
    "                                                    end_date=pd.to_datetime(end_date, format='%Y-%m-%d').strftime(\n",
    "                                                        '%Y%m%d'))\n",
    "        underlying_prc_his = underlying_prc_his_Tushare.set_index(\n",
    "            pd.to_datetime(underlying_prc_his_Tushare['trade_date'], format='%Y%m%d').dt.strftime('%Y-%m-%d'))\n",
    "        underlying_prc_his.sort_index(inplace=True)\n",
    "        handling_fee = 1.3 + 0.3\n",
    "        commission = 5\n",
    "\n",
    "    per_fee = handling_fee + commission\n",
    "\n",
    "    return {'underlying_symbol_for_stock': underlying_symbol_for_stock, 'underlying_symbol_for_opt': underlying_symbol_for_opt, 'per_fee': per_fee, 'underlying_prc_his': underlying_prc_his}\n"
   ]
  },
  {
   "cell_type": "code",
   "execution_count": 9,
   "id": "24a47180-13f2-4248-8234-0d8b1b54d443",
   "metadata": {},
   "outputs": [
    {
     "name": "stdout",
     "output_type": "stream",
     "text": [
      "{'underlying_symbol_for_stock': '510050.SH', 'underlying_symbol_for_opt': '510050.XSHG', 'per_fee': 6.6, 'underlying_prc_his':               ts_code trade_date  pre_close   open   high    low  close  \\\n",
      "trade_date                                                                \n",
      "2021-07-01  510050.SH   20210701      3.515  3.526  3.549  3.491  3.548   \n",
      "2021-07-02  510050.SH   20210702      3.548  3.517  3.530  3.417  3.423   \n",
      "2021-07-05  510050.SH   20210705      3.423  3.419  3.435  3.393  3.420   \n",
      "2021-07-06  510050.SH   20210706      3.420  3.420  3.432  3.390  3.431   \n",
      "2021-07-07  510050.SH   20210707      3.431  3.415  3.456  3.407  3.442   \n",
      "...               ...        ...        ...    ...    ...    ...    ...   \n",
      "2023-06-26  510050.SH   20230626      2.554  2.540  2.541  2.519  2.526   \n",
      "2023-06-27  510050.SH   20230627      2.526  2.526  2.548  2.517  2.541   \n",
      "2023-06-28  510050.SH   20230628      2.541  2.535  2.551  2.527  2.550   \n",
      "2023-06-29  510050.SH   20230629      2.550  2.546  2.552  2.529  2.535   \n",
      "2023-06-30  510050.SH   20230630      2.535  2.534  2.557  2.529  2.542   \n",
      "\n",
      "            change  pct_chg         vol       amount  \n",
      "trade_date                                            \n",
      "2021-07-01   0.033   0.9388  9123834.47  3214618.369  \n",
      "2021-07-02  -0.125  -3.5231  6095496.53  2106127.753  \n",
      "2021-07-05  -0.003  -0.0876  4262801.81  1455122.932  \n",
      "2021-07-06   0.011   0.3216  6623366.74  2258333.877  \n",
      "2021-07-07   0.011   0.3206  4999011.08  1716861.890  \n",
      "...            ...      ...         ...          ...  \n",
      "2023-06-26  -0.028  -1.0963  8211922.34  2074965.471  \n",
      "2023-06-27   0.015   0.5938  6029772.08  1527392.528  \n",
      "2023-06-28   0.009   0.3542  7991543.14  2029496.264  \n",
      "2023-06-29  -0.015  -0.5882  3358438.50   851871.371  \n",
      "2023-06-30   0.007   0.2761  4238519.91  1078814.230  \n",
      "\n",
      "[485 rows x 11 columns]}\n"
     ]
    }
   ],
   "source": [
    "print(param_standard(underlying_symbol='510050'))"
   ]
  },
  {
   "cell_type": "code",
   "execution_count": null,
   "id": "26960bcc-f599-4423-a2d1-d95d8ecd5b4e",
   "metadata": {},
   "outputs": [],
   "source": []
  }
 ],
 "metadata": {
  "kernelspec": {
   "display_name": "Python 3 (ipykernel)",
   "language": "python",
   "name": "python3"
  },
  "language_info": {
   "codemirror_mode": {
    "name": "ipython",
    "version": 3
   },
   "file_extension": ".py",
   "mimetype": "text/x-python",
   "name": "python",
   "nbconvert_exporter": "python",
   "pygments_lexer": "ipython3",
   "version": "3.10.9"
  }
 },
 "nbformat": 4,
 "nbformat_minor": 5
}
